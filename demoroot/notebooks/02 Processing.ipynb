{
 "cells": [
  {
   "cell_type": "markdown",
   "id": "conceptual-judges",
   "metadata": {},
   "source": [
    "# GNEO Axis 3 Hub Processing demo\n",
    "Demonstration of Processing endpoints."
   ]
  },
  {
   "cell_type": "code",
   "execution_count": 13,
   "id": "manufactured-repair",
   "metadata": {},
   "outputs": [
    {
     "name": "stdout",
     "output_type": "stream",
     "text": [
      "The autoreload extension is already loaded. To reload it, use:\n",
      "  %reload_ext autoreload\n"
     ]
    }
   ],
   "source": [
    "%load_ext autoreload\n",
    "%autoreload 2\n",
    "import jwt\n",
    "import json\n",
    "from owslib.csw import CatalogueServiceWeb\n",
    "import os\n",
    "from time import sleep"
   ]
  },
  {
   "cell_type": "markdown",
   "id": "liable-reform",
   "metadata": {},
   "source": [
    "## Initialise"
   ]
  },
  {
   "cell_type": "markdown",
   "id": "experienced-yemen",
   "metadata": {},
   "source": [
    "Platform domain..."
   ]
  },
  {
   "cell_type": "code",
   "execution_count": 14,
   "id": "fluid-plane",
   "metadata": {},
   "outputs": [],
   "source": [
    "#https://iam.ax3hub-dev.planetek.net/realms/axes-3/protocol/openid-connect/token\n",
    "base_domain = \"ax3hub-dev.planetek.net\""
   ]
  },
  {
   "cell_type": "markdown",
   "id": "written-somalia",
   "metadata": {},
   "source": [
    "### User\n",
    "User authenticates and the client receives an ID Token (JWT) that represents the user."
   ]
  },
  {
   "cell_type": "code",
   "execution_count": 26,
   "id": "c54a1ccf-a5fe-4d81-a764-74fd0bb1e4d2",
   "metadata": {},
   "outputs": [
    {
     "name": "stdout",
     "output_type": "stream",
     "text": [
      "https://iam.ax3hub-dev.planetek.net/realms/axes-3/protocol/openid-connect/token\n"
     ]
    }
   ],
   "source": [
    "#-------------------------------------------------------------------------------\n",
    "# Helper function to authenticate user and get access token\n",
    "#-------------------------------------------------------------------------------\n",
    "import requests\n",
    "\n",
    "realm = \"axes-3\"\n",
    "keycloak = f\"https://iam.{base_domain}\"\n",
    "token_endpoint = f\"{keycloak}/realms/{realm}/protocol/openid-connect/token\"\n",
    "client_id = \"admin-cli\"\n",
    "client_secret = \"changeme\"\n",
    "\n",
    "print(token_endpoint)\n",
    "def get_user_token(username, password):\n",
    "    headers = {\n",
    "        \"Cache-Control\": \"no-cache\",\n",
    "        \"Content-Type\": \"application/x-www-form-urlencoded\"\n",
    "    }\n",
    "    data = {\n",
    "        #\"scope\": \"openid profile email\",\n",
    "        \"grant_type\": \"password\",\n",
    "        \"username\": username,\n",
    "        \"password\": password,\n",
    "        \"client_id\": client_id,\n",
    "        #\"client_secret\": client_secret\n",
    "    }\n",
    "    response = requests.post(token_endpoint, headers=headers, data=data)\n",
    "    if response.ok:\n",
    "        return response.json()[\"access_token\"]\n",
    "    else:\n",
    "        print(response)\n",
    "        return None"
   ]
  },
  {
   "cell_type": "code",
   "execution_count": 30,
   "id": "formed-scope",
   "metadata": {
    "tags": []
   },
   "outputs": [],
   "source": [
    "#-------------------------------------------------------------------------------\n",
    "# Authenticate as user `eric` and get an access token\n",
    "#-------------------------------------------------------------------------------\n",
    "USER_NAME=\"gfenoy\"\n",
    "USER_PASSWORD=\"v>Mp5>424`;8\"\n",
    "user_access_token = get_user_token(USER_NAME, USER_PASSWORD)\n",
    "\n",
    "headers = {\n",
    "    \"Accept\": \"application/json\",\n",
    "    \"Authorization\": f\"Bearer {user_access_token}\"\n",
    "}"
   ]
  },
  {
   "cell_type": "markdown",
   "id": "swiss-librarian",
   "metadata": {},
   "source": [
    "## ZOO-Project-DRU\n",
    "The ZOO-Project-DRU provides user-specific endpoints, using a URL path prefix."
   ]
  },
  {
   "cell_type": "code",
   "execution_count": 31,
   "id": "distinguished-particle",
   "metadata": {},
   "outputs": [
    {
     "name": "stdout",
     "output_type": "stream",
     "text": [
      "ZOO-Project-DRU API Processes endpoint for user gfenoy: https://processing.ax3hub-dev.planetek.net/gfenoy/ogc-api\n"
     ]
    }
   ],
   "source": [
    "# ZOO-Project-DRU URLs\n",
    "ades_base_url = f\"https://processing.{base_domain}\"\n",
    "ades_proc_url = f\"{ades_base_url}/{USER_NAME}/ogc-api\"\n",
    "print(f\"ZOO-Project-DRU API Processes endpoint for user {USER_NAME}: {ades_proc_url}\")"
   ]
  },
  {
   "cell_type": "markdown",
   "id": "different-studio",
   "metadata": {},
   "source": [
    "### ZOO-Project-DRU API Processes"
   ]
  },
  {
   "cell_type": "code",
   "execution_count": 32,
   "id": "architectural-college",
   "metadata": {},
   "outputs": [],
   "source": [
    "app_name = \"convert-url\""
   ]
  },
  {
   "cell_type": "markdown",
   "id": "framed-russell",
   "metadata": {},
   "source": [
    "#### ZOO-Project-DRU: List Processes\n",
    "**GET {service_url}/processes**<br>\n",
    "Provides a list of all processes "
   ]
  },
  {
   "cell_type": "code",
   "execution_count": 33,
   "id": "4cceb35d-95d2-42f2-9dac-2c7e6237ebdb",
   "metadata": {},
   "outputs": [
    {
     "name": "stdout",
     "output_type": "stream",
     "text": [
      "Processes...\n",
      "   echo\n"
     ]
    }
   ],
   "source": [
    "# API Processes - List Processes\n",
    "response = requests.get(f\"{ades_proc_url}/processes\", headers=headers)\n",
    "response.raise_for_status()\n",
    "\n",
    "process_list = response.json()\n",
    "print(\"Processes...\")\n",
    "app_is_already_deployed = False\n",
    "for process in process_list[\"processes\"]:\n",
    "    process_id = process[\"id\"]\n",
    "    if process_id == app_name:\n",
    "        app_is_already_deployed = True\n",
    "    print(\"  \", process_id)"
   ]
  },
  {
   "cell_type": "markdown",
   "id": "50dba324-4b06-49a5-813c-1e8095640205",
   "metadata": {
    "tags": []
   },
   "source": [
    "#### ZOO-Project-DRU: Undeploy Application (in case its already deployed)\n",
    "**DELETE {service_url}/processes/{application_name}**<br>\n",
    "Undeploys application from the ZOO-Project-DRU"
   ]
  },
  {
   "cell_type": "code",
   "execution_count": 34,
   "id": "715a42f4-d6b3-4956-9a9f-7c4e61285d70",
   "metadata": {},
   "outputs": [
    {
     "name": "stdout",
     "output_type": "stream",
     "text": [
      "Application convert-url is NOT yet deployed. No need to delete.\n"
     ]
    }
   ],
   "source": [
    "# API Processes - Undeploy Application\n",
    "\n",
    "if app_is_already_deployed:\n",
    "    print(f\"Application {app_name} is already deployed. Undeploying...\")\n",
    "\n",
    "    response = requests.delete(\n",
    "        f\"{ades_proc_url}/processes/{app_name}\",\n",
    "        headers=headers\n",
    "    )\n",
    "    response.raise_for_status()\n",
    "else:\n",
    "    print(f\"Application {app_name} is NOT yet deployed. No need to delete.\")"
   ]
  },
  {
   "cell_type": "code",
   "execution_count": 24,
   "id": "eaffea4c-1920-4f27-aa33-7d2219a4c8ca",
   "metadata": {},
   "outputs": [
    {
     "name": "stdout",
     "output_type": "stream",
     "text": [
      "Processes...\n",
      "   echo\n"
     ]
    }
   ],
   "source": [
    "# API Processes - List Processes\n",
    "response = requests.get(f\"{ades_proc_url}/processes\", headers=headers)\n",
    "response.raise_for_status()\n",
    "\n",
    "process_list = response.json()\n",
    "print(\"Processes...\")\n",
    "for process in process_list[\"processes\"]:\n",
    "    print(\"  \", process[\"id\"])"
   ]
  },
  {
   "cell_type": "markdown",
   "id": "aggregate-scratch",
   "metadata": {},
   "source": [
    "#### ZOO-Project-DRU: Deploy Application\n",
    "\n",
    "**POST {service_url}/processes**<br>\n",
    "Deploys application to the ZOO-Project-DRU.<br>\n",
    "Request body is json in which the input is the Application Package describing the application.<br>\n",
    "The Application Package is a CWL Workflow that is typically provided as an href with content type **_application/atom+xml_** or **_application/cwl_**. The url to the application package can be either a http or s3 endpoint."
   ]
  },
  {
   "cell_type": "code",
   "execution_count": 35,
   "id": "4dd0adf5-396f-4b7c-9a9b-e7a5767ed615",
   "metadata": {},
   "outputs": [
    {
     "data": {
      "text/plain": [
       "<Response [201]>"
      ]
     },
     "execution_count": 35,
     "metadata": {},
     "output_type": "execute_result"
    }
   ],
   "source": [
    "# API Processes - Deploy Application\n",
    "response = requests.post(\n",
    "    f\"{ades_proc_url}/processes\",\n",
    "    headers = dict([(\"Content-Type\", \"application/json\")], **headers),\n",
    "    json = {\n",
    "      \"executionUnit\": {\n",
    "        \"href\": \"https://raw.githubusercontent.com/EOEPCA/deployment-guide/main/scripts/processing/oapip/examples/convert-url-app.cwl\",\n",
    "        \"type\": \"application/cwl\"\n",
    "      }\n",
    "    }\n",
    ")\n",
    "if response.status_code == 409:\n",
    "    print(f\"Application {app_name} is already deployed\")\n",
    "else:\n",
    "    response.raise_for_status()\n",
    "response"
   ]
  },
  {
   "cell_type": "code",
   "execution_count": 36,
   "id": "c7f795d1-f97b-4131-8676-7a29a41029b3",
   "metadata": {},
   "outputs": [
    {
     "data": {
      "text/plain": [
       "b'{\"id\":\"convert-url\",\"title\":\"convert url app\",\"description\":\"Convert URL\",\"mutable\":true,\"version\":\"0.1.2\",\"metadata\":[{\"role\":\"https://schema.org/softwareVersion\",\"value\":\"0.1.2\"}],\"outputTransmission\":[\"value\",\"reference\"],\"jobControlOptions\":[\"async-execute\",\"dismiss\"],\"links\":[{\"rel\":\"http://www.opengis.net/def/rel/ogc/1.0/execute\",\"type\":\"application/json\",\"title\":\"Execute End Point\",\"href\":\"https://processing.ax3hub-dev.planetek.net/gfenoy/ogc-api/processes/convert-url/execution\"}]}\\n'"
      ]
     },
     "execution_count": 36,
     "metadata": {},
     "output_type": "execute_result"
    }
   ],
   "source": [
    "response.content"
   ]
  },
  {
   "cell_type": "markdown",
   "id": "713d73c3-4e3b-498c-b6fa-ec0246fd0ac1",
   "metadata": {},
   "source": [
    "Check that the application has been correctly deployed"
   ]
  },
  {
   "cell_type": "code",
   "execution_count": 37,
   "id": "d6232bbb-c85a-4b96-ba66-f2fbdadee704",
   "metadata": {},
   "outputs": [
    {
     "name": "stdout",
     "output_type": "stream",
     "text": [
      "Processes...\n",
      "   echo\n",
      "   convert-url\n"
     ]
    }
   ],
   "source": [
    "# API Processes - List Processes\n",
    "response = requests.get(f\"{ades_proc_url}/processes\", headers=headers)\n",
    "response.raise_for_status()\n",
    "\n",
    "process_list = response.json()\n",
    "print(\"Processes...\")\n",
    "for process in process_list[\"processes\"]:\n",
    "    print(\"  \", process[\"id\"])"
   ]
  },
  {
   "cell_type": "markdown",
   "id": "intimate-douglas",
   "metadata": {},
   "source": [
    "#### ZOO-Project-DRU: Get Application Details\n",
    "**GET {service_url}/processes/{application_name}**<br>\n",
    "Provides details of the deployed application<br>\n",
    "The response includes the API Processes json application description."
   ]
  },
  {
   "cell_type": "code",
   "execution_count": 38,
   "id": "6e5a5257-9c3b-4811-bca2-2179344c9327",
   "metadata": {},
   "outputs": [
    {
     "name": "stdout",
     "output_type": "stream",
     "text": [
      "{\n",
      "  \"id\": \"convert-url\",\n",
      "  \"title\": \"convert url app\",\n",
      "  \"description\": \"Convert URL\",\n",
      "  \"mutable\": true,\n",
      "  \"version\": \"0.1.2\",\n",
      "  \"metadata\": [\n",
      "    {\n",
      "      \"role\": \"https://schema.org/softwareVersion\",\n",
      "      \"value\": \"0.1.2\"\n",
      "    }\n",
      "  ],\n",
      "  \"outputTransmission\": [\n",
      "    \"value\",\n",
      "    \"reference\"\n",
      "  ],\n",
      "  \"jobControlOptions\": [\n",
      "    \"async-execute\",\n",
      "    \"dismiss\"\n",
      "  ],\n",
      "  \"links\": [\n",
      "    {\n",
      "      \"rel\": \"http://www.opengis.net/def/rel/ogc/1.0/execute\",\n",
      "      \"type\": \"application/json\",\n",
      "      \"title\": \"Execute End Point\",\n",
      "      \"href\": \"https://processing.ax3hub-dev.planetek.net/gfenoy/ogc-api/processes/convert-url/execution\"\n",
      "    }\n",
      "  ],\n",
      "  \"inputs\": {\n",
      "    \"fn\": {\n",
      "      \"title\": \"the operation to perform\",\n",
      "      \"description\": \"the operation to perform\",\n",
      "      \"schema\": {\n",
      "        \"type\": \"string\",\n",
      "        \"default\": \"resize\",\n",
      "        \"nullable\": true\n",
      "      }\n",
      "    },\n",
      "    \"size\": {\n",
      "      \"title\": \"the percentage for a resize operation\",\n",
      "      \"description\": \"the percentage for a resize operation\",\n",
      "      \"schema\": {\n",
      "        \"type\": \"string\",\n",
      "        \"default\": \"50%\",\n",
      "        \"nullable\": true\n",
      "      }\n",
      "    },\n",
      "    \"url\": {\n",
      "      \"title\": \"the image to convert\",\n",
      "      \"description\": \"the image to convert\",\n",
      "      \"schema\": {\n",
      "        \"type\": \"string\",\n",
      "        \"default\": \"https://eoepca.org/media_portal/images/logo6_med.original.png\",\n",
      "        \"nullable\": true\n",
      "      }\n",
      "    }\n",
      "  },\n",
      "  \"outputs\": {\n",
      "    \"converted_image\": {\n",
      "      \"title\": \"converted_image\",\n",
      "      \"description\": \"None\",\n",
      "      \"schema\": {\n",
      "        \"allOf\": [\n",
      "          {\n",
      "            \"format\": \"geojson-feature-collection\"\n",
      "          },\n",
      "          {\n",
      "            \"$ref\": \"https://schemas.opengis.net/ogcapi/features/part1/1.0/openapi/schemas/featureCollectionGeoJSON.yaml\"\n",
      "          }\n",
      "        ]\n",
      "      }\n",
      "    }\n",
      "  }\n",
      "}\n"
     ]
    }
   ],
   "source": [
    "# API Processes - Get Application Details\n",
    "response = requests.get(f\"{ades_proc_url}/processes/{app_name}\", headers=headers)\n",
    "response.raise_for_status()\n",
    "\n",
    "print(json.dumps(response.json(), indent = 2))"
   ]
  },
  {
   "cell_type": "markdown",
   "id": "fourth-decline",
   "metadata": {},
   "source": [
    "#### ZOO-Project-DRU: Execute Application\n",
    "\n",
    "**POST {service_url}/processes/{application_name}/execution**<br>\n",
    "Request body is json as defined by API Processes to define the inputs and outputs, consistent with the CWL Workflow application package.<br>\n",
    "The response returns **201 CREATED** to indicate that the job has been successfully initiated.<br>\n",
    "The response **Location header** provides the path (/processes/{application_name}/jobs/{job_id}) to follow the job status."
   ]
  },
  {
   "cell_type": "code",
   "execution_count": 39,
   "id": "89fc587b-b109-41ad-b060-cae2f9213b90",
   "metadata": {},
   "outputs": [
    {
     "data": {
      "text/plain": [
       "b'{\"progress\":0,\"id\":\"539473e4-05a5-11f0-8314-befc17a3de49\",\"jobID\":\"539473e4-05a5-11f0-8314-befc17a3de49\",\"type\":\"process\",\"processID\":\"convert-url\",\"created\":\"2025-03-20T16:06:48.309Z\",\"started\":\"2025-03-20T16:06:48.309Z\",\"updated\":\"2025-03-20T16:06:48.309Z\",\"status\":\"running\",\"message\":\"ZOO-Kernel accepted to run your service!\",\"links\":[{\"title\":\"Status location\",\"rel\":\"monitor\",\"type\":\"application/json\",\"href\":\"https://processing.ax3hub-dev.planetek.net/gfenoy/ogc-api/jobs/539473e4-05a5-11f0-8314-befc17a3de49\"}]}\\n'"
      ]
     },
     "execution_count": 39,
     "metadata": {},
     "output_type": "execute_result"
    }
   ],
   "source": [
    "# API Processes - Execute Application\n",
    "response = requests.post(\n",
    "    f\"{ades_proc_url}/processes/{app_name}/execution\",\n",
    "    headers = dict([(\"Content-Type\", \"application/json\"), (\"Prefer\", \"respond-async\")], **headers),\n",
    "    json = {\n",
    "      \"inputs\": {\n",
    "          \"fn\": \"resize\",\n",
    "          \"url\":  \"https://eoepca.org/media_portal/images/logo6_med.original.png\",\n",
    "          \"size\": \"50%\"\n",
    "      }\n",
    "    }\n",
    ")\n",
    "response.raise_for_status()\n",
    "response.content"
   ]
  },
  {
   "cell_type": "code",
   "execution_count": 40,
   "id": "bc5f6384-8230-47e1-bc39-b98b14c787b5",
   "metadata": {},
   "outputs": [
    {
     "data": {
      "text/plain": [
       "'https://processing.ax3hub-dev.planetek.net/gfenoy/ogc-api/jobs/539473e4-05a5-11f0-8314-befc17a3de49'"
      ]
     },
     "execution_count": 40,
     "metadata": {},
     "output_type": "execute_result"
    }
   ],
   "source": [
    "job_status_url = response.headers[\"Location\"]\n",
    "job_status_url"
   ]
  },
  {
   "cell_type": "markdown",
   "id": "frozen-while",
   "metadata": {},
   "source": [
    "#### ZOO-Project-DRU: Job Status\n",
    "\n",
    "**GET {service_url}/jobs/{job_id}**<br>\n",
    "Checks the status of the previously submitted job - using the URL returned in the Location header of the execute request.<br>\n",
    "The response body json provides a status string (success/running/failed) and a % progress.<br>\n",
    "In the case of a failure then a descriptive message is provided."
   ]
  },
  {
   "cell_type": "code",
   "execution_count": 41,
   "id": "54dd98ae-3e44-4dc7-a8e4-4ec1311d31e4",
   "metadata": {},
   "outputs": [
    {
     "name": "stdout",
     "output_type": "stream",
     "text": [
      "{\n",
      "  \"progress\": 23,\n",
      "  \"id\": \"539473e4-05a5-11f0-8314-befc17a3de49\",\n",
      "  \"jobID\": \"539473e4-05a5-11f0-8314-befc17a3de49\",\n",
      "  \"type\": \"process\",\n",
      "  \"processID\": \"convert-url\",\n",
      "  \"created\": \"2025-03-20T16:06:48.309Z\",\n",
      "  \"started\": \"2025-03-20T16:06:48.309Z\",\n",
      "  \"updated\": \"2025-03-20T16:07:35.991Z\",\n",
      "  \"status\": \"running\",\n",
      "  \"message\": \"execution submitted\",\n",
      "  \"links\": [\n",
      "    {\n",
      "      \"title\": \"Status location\",\n",
      "      \"rel\": \"monitor\",\n",
      "      \"type\": \"application/json\",\n",
      "      \"href\": \"https://processing.ax3hub-dev.planetek.net/gfenoy/ogc-api/jobs/539473e4-05a5-11f0-8314-befc17a3de49\"\n",
      "    }\n",
      "  ]\n",
      "}\n"
     ]
    }
   ],
   "source": [
    "# API Processes - Job Status\n",
    "def get_job_status():\n",
    "    return requests.get(job_status_url, headers=headers)\n",
    "\n",
    "response = get_job_status()\n",
    "response.raise_for_status()\n",
    "\n",
    "print(json.dumps(response.json(), indent = 2))"
   ]
  },
  {
   "cell_type": "code",
   "execution_count": null,
   "id": "infinite-eleven",
   "metadata": {},
   "outputs": [
    {
     "name": "stdout",
     "output_type": "stream",
     "text": [
      "Job status is: running - waiting...\n",
      "Job status is: running - waiting...\n",
      "Job status is: running - waiting...\n",
      "Job status is: running - waiting...\n"
     ]
    }
   ],
   "source": [
    "# API Processes - Job Status (keep polling for completion)\n",
    "status = \"running\"\n",
    "interval = 10\n",
    "error_count = 0\n",
    "max_error_count = 5\n",
    "while status == 'running':\n",
    "    response = get_job_status()\n",
    "    # Expecting a 200 response\n",
    "    if response.status_code == 200:\n",
    "        error_count = 0\n",
    "        status = response.json()[\"status\"]\n",
    "        print(f\"Job status is: {status}\", end=\"\")\n",
    "        if status != 'successful' and status != 'failed':\n",
    "            print(\" - waiting...\")\n",
    "            sleep(interval)\n",
    "        else:\n",
    "            print(\" - DONE\")\n",
    "            break\n",
    "    # Unexpected response, latch the error\n",
    "    else:\n",
    "        error_count += 1\n",
    "        print(f\"Unexpected response {response.status_code} requesting job status\")\n",
    "        sleep(interval)\n",
    "    # Too many consecutive errors\n",
    "    if error_count > max_error_count:\n",
    "        print(\"ERROR: Too many failed attempts to get job status\")\n",
    "        break\n",
    "\n",
    "print(f\"Processing completed with status: {status}\")"
   ]
  },
  {
   "cell_type": "code",
   "execution_count": 36,
   "id": "steady-revolution",
   "metadata": {},
   "outputs": [
    {
     "name": "stdout",
     "output_type": "stream",
     "text": [
      "status: 200\n",
      "headers: {\n",
      "  \"Content-Type\": \"application/json;charset=UTF-8\",\n",
      "  \"Transfer-Encoding\": \"chunked\",\n",
      "  \"Connection\": \"keep-alive\",\n",
      "  \"Date\": \"Wed, 19 Mar 2025 12:01:44 GMT\",\n",
      "  \"X-Powered-By\": \"ZOO-Project-DRU\",\n",
      "  \"X-Also-Powered-By\": \"jwt.securityIn\",\n",
      "  \"X-Also-Also-Powered-By\": \"dru.securityIn\",\n",
      "  \"Server\": \"APISIX/3.11.0\"\n",
      "}\n",
      "body...\n",
      "{\n",
      "  \"id\": \"b2ff1aba-04b9-11f0-ba55-d6587e5c8cf1\",\n",
      "  \"jobID\": \"b2ff1aba-04b9-11f0-ba55-d6587e5c8cf1\",\n",
      "  \"type\": \"process\",\n",
      "  \"processID\": \"convert-url\",\n",
      "  \"created\": \"2025-03-19T12:00:07.372Z\",\n",
      "  \"started\": \"2025-03-19T12:00:07.372Z\",\n",
      "  \"finished\": \"2025-03-19T12:01:39.814Z\",\n",
      "  \"updated\": \"2025-03-19T12:01:39.423Z\",\n",
      "  \"status\": \"successful\",\n",
      "  \"message\": \"ZOO-Kernel successfully run your service!\",\n",
      "  \"links\": [\n",
      "    {\n",
      "      \"title\": \"Status location\",\n",
      "      \"rel\": \"monitor\",\n",
      "      \"type\": \"application/json\",\n",
      "      \"href\": \"https://processing.ax3hub-dev.planetek.net/gfenoy/ogc-api/jobs/b2ff1aba-04b9-11f0-ba55-d6587e5c8cf1\"\n",
      "    },\n",
      "    {\n",
      "      \"title\": \"Result location\",\n",
      "      \"rel\": \"http://www.opengis.net/def/rel/ogc/1.0/results\",\n",
      "      \"type\": \"application/json\",\n",
      "      \"href\": \"https://processing.ax3hub-dev.planetek.net/gfenoy/ogc-api/jobs/b2ff1aba-04b9-11f0-ba55-d6587e5c8cf1/results\"\n",
      "    }\n",
      "  ]\n",
      "}\n"
     ]
    }
   ],
   "source": [
    "print(f\"status: {response.status_code}\\nheaders: {json.dumps(dict(response.headers), indent=2)}\\nbody...\\n{json.dumps(response.json(), indent=2)}\")"
   ]
  },
  {
   "cell_type": "markdown",
   "id": "suitable-construction",
   "metadata": {},
   "source": [
    "#### ZOO-Project-DRU: Job Result\n",
    "**GET {service_url}/jobs/{job_id}/results**<br>\n",
    "Returns details of the outputs for a successful job execution.<br>\n",
    "The response body provides json data that includes the reference to the STAC file that indexes the processing outputs."
   ]
  },
  {
   "cell_type": "code",
   "execution_count": 37,
   "id": "4aeb4350-ea2b-4067-9e66-e793a06ae6ee",
   "metadata": {},
   "outputs": [
    {
     "name": "stdout",
     "output_type": "stream",
     "text": [
      "{\n",
      "  \"type\": \"FeatureCollection\",\n",
      "  \"features\": [\n",
      "    {\n",
      "      \"type\": \"Feature\",\n",
      "      \"stac_version\": \"1.0.0\",\n",
      "      \"id\": \"logo6_med.original-resize-1742385668.200845929\",\n",
      "      \"properties\": {\n",
      "        \"created\": \"2025-03-19T12:01:08.200Z\",\n",
      "        \"datetime\": \"2025-03-19T12:01:08.200000Z\",\n",
      "        \"updated\": \"2025-03-19T12:01:08.200Z\"\n",
      "      },\n",
      "      \"geometry\": {\n",
      "        \"type\": \"Polygon\",\n",
      "        \"coordinates\": [\n",
      "          [\n",
      "            [\n",
      "              -180,\n",
      "              -90\n",
      "            ],\n",
      "            [\n",
      "              -180,\n",
      "              90\n",
      "            ],\n",
      "            [\n",
      "              180,\n",
      "              90\n",
      "            ],\n",
      "            [\n",
      "              180,\n",
      "              -90\n",
      "            ],\n",
      "            [\n",
      "              -180,\n",
      "              -90\n",
      "            ]\n",
      "          ]\n",
      "        ]\n",
      "      },\n",
      "      \"links\": [\n",
      "        {\n",
      "          \"rel\": \"root\",\n",
      "          \"href\": \"s3://eks-1-processing/processing-results/b2ff1aba-04b9-11f0-ba55-d6587e5c8cf1/catalog.json\",\n",
      "          \"type\": \"application/json\"\n",
      "        },\n",
      "        {\n",
      "          \"rel\": \"self\",\n",
      "          \"href\": \"s3://eks-1-processing/processing-results/b2ff1aba-04b9-11f0-ba55-d6587e5c8cf1/logo6_med.original-resize-1742385668.200845929/logo6_med.original-resize-1742385668.200845929.json\",\n",
      "          \"type\": \"application/json\"\n",
      "        },\n",
      "        {\n",
      "          \"rel\": \"parent\",\n",
      "          \"href\": \"s3://eks-1-processing/processing-results/b2ff1aba-04b9-11f0-ba55-d6587e5c8cf1/catalog.json\",\n",
      "          \"type\": \"application/json\"\n",
      "        }\n",
      "      ],\n",
      "      \"assets\": {\n",
      "        \"logo6_med.original-resize\": {\n",
      "          \"href\": \"s3://eks-1-processing/processing-results/b2ff1aba-04b9-11f0-ba55-d6587e5c8cf1/logo6_med.original-resize-1742385668.200845929/logo6_med.original-resize.png\",\n",
      "          \"type\": \"image/png\",\n",
      "          \"file:size\": 19247,\n",
      "          \"storage:platform\": \"EOEPCA\",\n",
      "          \"storage:requester_pays\": false,\n",
      "          \"storage:tier\": \"Standard\",\n",
      "          \"storage:region\": \"eu-central-1\",\n",
      "          \"storage:endpoint\": \"https://s3.eu-central-1.amazonaws.com\",\n",
      "          \"roles\": [\n",
      "            \"data\"\n",
      "          ]\n",
      "        }\n",
      "      },\n",
      "      \"bbox\": [\n",
      "        -180,\n",
      "        -90,\n",
      "        180,\n",
      "        90\n",
      "      ],\n",
      "      \"stac_extensions\": [],\n",
      "      \"collection\": \"b2ff1aba-04b9-11f0-ba55-d6587e5c8cf1\"\n",
      "    }\n",
      "  ],\n",
      "  \"id\": \"b2ff1aba-04b9-11f0-ba55-d6587e5c8cf1\"\n",
      "}\n"
     ]
    }
   ],
   "source": [
    "# API Processes - Job Result\n",
    "response = requests.get(f\"{job_status_url}/results\", headers=headers)\n",
    "response.raise_for_status()\n",
    "\n",
    "print(json.dumps(response.json(), indent = 2))"
   ]
  },
  {
   "cell_type": "markdown",
   "id": "db6fedd7-0c27-4285-956a-221068ecf502",
   "metadata": {},
   "source": [
    "From the S3 url let's retrieve the folder in the bucket where the result files are stored."
   ]
  },
  {
   "cell_type": "code",
   "execution_count": null,
   "id": "daa3786a-b39c-4345-8e9e-68a0394f6ab6",
   "metadata": {},
   "outputs": [],
   "source": [
    "processing_results = response.json()\n",
    "result_location = \"Not found\"\n",
    "for link in processing_results[\"links\"]:\n",
    "    if link[\"rel\"] == \"root\":\n",
    "        result_location = link[\"href\"]\n",
    "\n",
    "print(f\"Processing results root STAC Catalog: {result_location}\")\n",
    "\n",
    "result_folder_name = result_location.rsplit('/', 1)[0].rsplit(':', 1)[1].replace(\"//\"+bucket_name+\"/\",\"\")\n",
    "print(f\"Folder name for results in Object Storage: {result_folder_name}\")"
   ]
  },
  {
   "cell_type": "markdown",
   "id": "super-nutrition",
   "metadata": {
    "tags": []
   },
   "source": [
    "#### ZOO-Project-DRU: List Jobs"
   ]
  },
  {
   "cell_type": "code",
   "execution_count": 39,
   "id": "71fdefe7-5381-4ac5-ab93-c925acd32fdc",
   "metadata": {},
   "outputs": [
    {
     "name": "stdout",
     "output_type": "stream",
     "text": [
      "Listing 1 jobs...\n",
      "  2025-03-19T12:01:39.814Z - b2ff1aba-04b9-11f0-ba55-d6587e5c8cf1 - successful   - convert-url\n"
     ]
    }
   ],
   "source": [
    "# API Processes - List Jobs\n",
    "response = requests.get(f\"{ades_proc_url}/jobs\", headers=headers)\n",
    "response.raise_for_status()\n",
    "\n",
    "jobs_list = response.json()\n",
    "print(f\"Listing {jobs_list['numberTotal']} jobs...\")\n",
    "for job in jobs_list[\"jobs\"]:\n",
    "    print(f\"  {job.get('finished', '???'):^24} - {job['jobID']} - {job['status']:<12} - {job['processID']}\")"
   ]
  },
  {
   "cell_type": "markdown",
   "id": "ongoing-sleeve",
   "metadata": {
    "tags": []
   },
   "source": [
    "#### ZOO-Project-DRU: Undeploy Application\n",
    "**DELETE {service_url}/processes/{application_name}**<br>\n",
    "Undeploys application from the ADES"
   ]
  },
  {
   "cell_type": "code",
   "execution_count": 40,
   "id": "16ea4a23-1426-4160-9b89-59ab7fa49e0e",
   "metadata": {},
   "outputs": [],
   "source": [
    "# API Processes - Undeploy Application\n",
    "response = requests.delete(\n",
    "    f\"{ades_proc_url}/processes/{app_name}\",\n",
    "    headers=headers\n",
    ")\n",
    "response.raise_for_status()"
   ]
  },
  {
   "cell_type": "code",
   "execution_count": 41,
   "id": "bf1329fb-6305-4308-a950-f1b16b4ff2d1",
   "metadata": {},
   "outputs": [
    {
     "name": "stdout",
     "output_type": "stream",
     "text": [
      "Processes...\n",
      "   echo\n"
     ]
    }
   ],
   "source": [
    "# API Processes - List Processes\n",
    "response = requests.get(f\"{ades_proc_url}/processes\", headers=headers)\n",
    "response.raise_for_status()\n",
    "\n",
    "process_list = response.json()\n",
    "print(\"Processes...\")\n",
    "for process in process_list[\"processes\"]:\n",
    "    print(\"  \", process[\"id\"])"
   ]
  },
  {
   "cell_type": "markdown",
   "id": "75b90d16-9029-480c-bd44-df12056ea691",
   "metadata": {},
   "source": [
    "#### Workspace: Inspect results\n",
    "Let's inspect the result files in the user S3 bucket."
   ]
  },
  {
   "cell_type": "code",
   "execution_count": null,
   "id": "ancient-patent",
   "metadata": {},
   "outputs": [],
   "source": [
    "# Quick hack S3 access\n",
    "import boto3\n",
    "\n",
    "# Init S3 session for Creodias\n",
    "S3_ENDPOINT = f\"https://minio.{base_domain}\"\n",
    "session = boto3.session.Session()\n",
    "s3resource = session.resource('s3', aws_access_key_id=s3_access, aws_secret_access_key=s3_secret, endpoint_url=S3_ENDPOINT)\n",
    "\n",
    "# List bucket contents\n",
    "bucket = s3resource.Bucket(bucket_name)\n",
    "for obj in bucket.objects.filter(Prefix=result_folder_name):\n",
    "    print(' ->', obj.key)"
   ]
  }
 ],
 "metadata": {
  "kernelspec": {
   "display_name": "Python 3 (ipykernel)",
   "language": "python",
   "name": "python3"
  },
  "language_info": {
   "codemirror_mode": {
    "name": "ipython",
    "version": 3
   },
   "file_extension": ".py",
   "mimetype": "text/x-python",
   "name": "python",
   "nbconvert_exporter": "python",
   "pygments_lexer": "ipython3",
   "version": "3.12.9"
  }
 },
 "nbformat": 4,
 "nbformat_minor": 5
}
